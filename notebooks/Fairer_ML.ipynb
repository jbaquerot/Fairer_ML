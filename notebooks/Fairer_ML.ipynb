{
 "cells": [
  {
   "cell_type": "code",
   "execution_count": 1,
   "metadata": {},
   "outputs": [
    {
     "name": "stdout",
     "output_type": "stream",
     "text": [
      "pythoch version: 0.4.1\n"
     ]
    }
   ],
   "source": [
    "# imports\n",
    "# HIDE\n",
    "import pandas as pd\n",
    "import numpy as np\n",
    "np.random.seed(7)\n",
    "import matplotlib.pyplot as plt\n",
    "import seaborn as sns\n",
    "sns.set(style=\"white\", palette=\"muted\", color_codes=True, context=\"talk\")\n",
    "from IPython import display\n",
    "%matplotlib inline\n",
    "\n",
    "import sklearn as sk\n",
    "from sklearn.model_selection import train_test_split\n",
    "from sklearn.preprocessing import StandardScaler\n",
    "from sklearn.metrics import accuracy_score, roc_auc_score\n",
    "from sklearn.utils.class_weight import compute_class_weight\n",
    "\n",
    "\n",
    "import torch\n",
    "from torch.utils.data import TensorDataset\n",
    "from torch.utils.data import DataLoader\n",
    "import torch.optim as optim\n",
    "import torch.nn as nn\n",
    "import torch.nn.functional as F\n",
    "\n",
    "\n",
    "print(\"pythoch version: {}\".format(torch.__version__))\n",
    "\n",
    "device = \"cpu\""
   ]
  },
  {
   "cell_type": "markdown",
   "metadata": {},
   "source": [
    "# FAIRER MACHINE LEARNING: IS IT POSSIBLE?\n",
    "\n",
    "## ML FOR DECISION MAKING\n",
    "From credit ratings to online dating, machine learning models are increasingly used to automate 'everyday' decision making processes. \n",
    "\n",
    "## GROWING IMPACT ON SOCIETY\n",
    "More and more concerns are being voiced about the loss of transparency, accountability and fairness of the algorithms making the decisions.\n",
    "\n",
    "## MACHINE LEARNING & DISCRIMINATION\n",
    "\n",
    "We need to step-up and look for ways to mitigate emergent discrimination in our models. Make sure that our predictions do not hurt people unfairly with certain sensitive characteristics (e.g., gender, ethnicity, etc.)."
   ]
  },
  {
   "cell_type": "markdown",
   "metadata": {},
   "source": [
    "# Making income predictions\n",
    "\n",
    "Let's start by training a basic classifier that can predict whether or not a person's income is larger than 50K dollar a year. We'll be working with some California Census Data, we'll be trying to use various features of an individual to predict what class of income they belogn in (>50k or <=50k). It is not hard to imagine that financial institutions train models on similar data sets and use them to decide whether or not someone is eligible for a loan, or to set the height of an insurance premium.\n",
    "\n",
    "Before training a model, we first parse the data into three datasets: features, targets and sensitive attributes. The set of features $X$ contains the input attributes that the model uses for making the predictions, with attributes like age, education level and occupation. \n",
    "\n",
    "The targets $y$ contain the binary class labels that the model needs to predict. These labels are $y\\in\\left\\{income\\gt50K, income\\leq 50K\\right\\}$. \n",
    "\n",
    "Finally, the set of sensitive attributes $Z$ contains the attributes for which we want the prediction to fair. These are $z_{race}\\in\\left\\{black, white\\right\\}$ and $z_{gender}\\in\\left\\{male, female\\right\\}$.\n",
    "It is important to note that datasets are non-overlapping, so the sensitive attributes race and sex are not part of the features used for training the model."
   ]
  },
  {
   "cell_type": "markdown",
   "metadata": {},
   "source": [
    "Here is some information about the data:\n",
    "<table>\n",
    "<thead>\n",
    "<tr>\n",
    "<th>Column Name</th>\n",
    "<th>Type</th>\n",
    "<th>Description</th>\n",
    "</tr>\n",
    "</thead>\n",
    "<tbody>\n",
    "<tr>\n",
    "<td>age</td>\n",
    "<td>Continuous</td>\n",
    "<td>The age of the individual</td>\n",
    "</tr>\n",
    "<tr>\n",
    "<td>workclass</td>\n",
    "<td>Categorical</td>\n",
    "<td>The type of employer the  individual has (government,  military, private, etc.).</td>\n",
    "</tr>\n",
    "<tr>\n",
    "<td>fnlwgt</td>\n",
    "<td>Continuous</td>\n",
    "<td>The number of people the census  takers believe that observation  represents (sample weight). This  variable will not be used.</td>\n",
    "</tr>\n",
    "<tr>\n",
    "<td>education</td>\n",
    "<td>Categorical</td>\n",
    "<td>The highest level of education  achieved for that individual.</td>\n",
    "</tr>\n",
    "<tr>\n",
    "<td>education_num</td>\n",
    "<td>Continuous</td>\n",
    "<td>The highest level of education in  numerical form.</td>\n",
    "</tr>\n",
    "<tr>\n",
    "<td>marital_status</td>\n",
    "<td>Categorical</td>\n",
    "<td>Marital status of the individual.</td>\n",
    "</tr>\n",
    "<tr>\n",
    "<td>occupation</td>\n",
    "<td>Categorical</td>\n",
    "<td>The occupation of the individual.</td>\n",
    "</tr>\n",
    "<tr>\n",
    "<td>relationship</td>\n",
    "<td>Categorical</td>\n",
    "<td>Wife, Own-child, Husband,  Not-in-family, Other-relative,  Unmarried.</td>\n",
    "</tr>\n",
    "<tr>\n",
    "<td>race</td>\n",
    "<td>Categorical</td>\n",
    "<td>White, Asian-Pac-Islander,  Amer-Indian-Eskimo, Other, Black.</td>\n",
    "</tr>\n",
    "<tr>\n",
    "<td>gender</td>\n",
    "<td>Categorical</td>\n",
    "<td>Female, Male.</td>\n",
    "</tr>\n",
    "<tr>\n",
    "<td>capital_gain</td>\n",
    "<td>Continuous</td>\n",
    "<td>Capital gains recorded.</td>\n",
    "</tr>\n",
    "<tr>\n",
    "<td>capital_loss</td>\n",
    "<td>Continuous</td>\n",
    "<td>Capital Losses recorded.</td>\n",
    "</tr>\n",
    "<tr>\n",
    "<td>hours_per_week</td>\n",
    "<td>Continuous</td>\n",
    "<td>Hours worked per week.</td>\n",
    "</tr>\n",
    "<tr>\n",
    "<td>native_country</td>\n",
    "<td>Categorical</td>\n",
    "<td>Country of origin of the  individual.</td>\n",
    "</tr>\n",
    "<tr>\n",
    "<td>income</td>\n",
    "<td>Categorical</td>\n",
    "<td>\"&gt;50K\" or \"&lt;=50K\", meaning  whether the person makes more  than \\$50,000 annually.</td>\n",
    "</tr>\n",
    "</tbody>\n",
    "</table>"
   ]
  },
  {
   "cell_type": "markdown",
   "metadata": {},
   "source": [
    "### THE DATA\n",
    "Downloading the data"
   ]
  },
  {
   "cell_type": "code",
   "execution_count": 2,
   "metadata": {},
   "outputs": [],
   "source": [
    "#!wget -O ../data/adult.data https://archive.ics.uci.edu/ml/machine-learning-databases/adult/adult.data "
   ]
  },
  {
   "cell_type": "markdown",
   "metadata": {},
   "source": [
    "Read in the census_data.csv data with pandas"
   ]
  },
  {
   "cell_type": "code",
   "execution_count": 3,
   "metadata": {},
   "outputs": [],
   "source": [
    "# HIDE\n",
    "def load_ICU_data(path):\n",
    "    column_names = ['age', 'workclass', 'fnlwgt', 'education', 'education_num', \n",
    "                    'marital_status', 'occupation', 'relationship', 'race', 'sex', \n",
    "                    'capital_gain', 'capital_loss', 'hours_per_week', 'country', 'target']\n",
    "    input_data = (pd.read_csv(path, names=column_names, \n",
    "                              na_values=\"?\", sep=r'\\s*,\\s*', engine='python')\n",
    "                  .loc[lambda df: df['race'].isin(['White', 'Black'])])\n",
    "\n",
    "    # sensitive attributes; we identify 'race' and 'sex' as sensitive attributes\n",
    "    sensitive_attribs = ['race', 'sex']\n",
    "    Z = (input_data.loc[:, sensitive_attribs]\n",
    "         .assign(race=lambda df: (df['race'] == 'White').astype(int),\n",
    "                 sex=lambda df: (df['sex'] == 'Male').astype(int)))\n",
    "\n",
    "    # targets; 1 when someone makes over 50k , otherwise 0\n",
    "    y = (input_data['target'] == '>50K').astype(int)\n",
    "\n",
    "    # features; note that the 'target' and sentive attribute columns are dropped\n",
    "    X = (input_data\n",
    "         .drop(columns=['target', 'race', 'sex'])\n",
    "         .fillna('Unknown')\n",
    "         .pipe(pd.get_dummies, drop_first=True))\n",
    "    \n",
    "    print(\"features X: {0} samples, {1} attributes\".format(X.shape[0], X.shape[1]))\n",
    "    print(\"targets y: {0} samples\".format(y.shape[0]))\n",
    "    print(\"sensitives Z: {0} samples, {1} attributes\".format(Z.shape[0], Z.shape[1]))\n",
    "    return X, y, Z"
   ]
  },
  {
   "cell_type": "code",
   "execution_count": 4,
   "metadata": {},
   "outputs": [
    {
     "name": "stdout",
     "output_type": "stream",
     "text": [
      "features X: 30940 samples, 94 attributes\n",
      "targets y: 30940 samples\n",
      "sensitives Z: 30940 samples, 2 attributes\n"
     ]
    }
   ],
   "source": [
    "# load ICU data set\n",
    "X, y, Z = load_ICU_data('../data/adult.data')\n",
    "\n",
    "n_features = X.shape[1]\n",
    "n_sensitive = Z.shape[1]"
   ]
  },
  {
   "cell_type": "markdown",
   "metadata": {},
   "source": [
    "Our dataset contains the information of just over 30K people. Next, we split the data into train and test sets, where the split is 50/50, and scale the features $X$ using standard scaling."
   ]
  },
  {
   "cell_type": "code",
   "execution_count": 5,
   "metadata": {},
   "outputs": [
    {
     "name": "stderr",
     "output_type": "stream",
     "text": [
      "/usr/local/lib/python3.5/dist-packages/sklearn/preprocessing/data.py:625: DataConversionWarning: Data with input dtype uint8, int64 were all converted to float64 by StandardScaler.\n",
      "  return self.partial_fit(X, y)\n",
      "/usr/local/lib/python3.5/dist-packages/ipykernel_launcher.py:8: DataConversionWarning: Data with input dtype uint8, int64 were all converted to float64 by StandardScaler.\n",
      "  \n",
      "/usr/local/lib/python3.5/dist-packages/ipykernel_launcher.py:8: DataConversionWarning: Data with input dtype uint8, int64 were all converted to float64 by StandardScaler.\n",
      "  \n"
     ]
    }
   ],
   "source": [
    "# split into train/test set\n",
    "X_train, X_test, y_train, y_test, Z_train, Z_test = train_test_split(X, y, Z, test_size=0.5, \n",
    "                                                                     stratify=y, \n",
    "                                                                     random_state=7)\n",
    "\n",
    "# standardize the data\n",
    "scaler = StandardScaler().fit(X_train)\n",
    "scale_df = lambda df, scaler: pd.DataFrame(scaler.transform(df), columns=df.columns, index=df.index)\n",
    "X_train = X_train.pipe(scale_df, scaler) \n",
    "X_test = X_test.pipe(scale_df, scaler)"
   ]
  },
  {
   "cell_type": "code",
   "execution_count": 6,
   "metadata": {},
   "outputs": [],
   "source": [
    "class PandasDataSet(TensorDataset):\n",
    "\n",
    "    def __init__(self, *dataframes):\n",
    "        tensors = (self._df_to_tensor(df) for df in dataframes)\n",
    "        super(PandasDataSet, self).__init__(*tensors)\n",
    "\n",
    "    def _df_to_tensor(self, df):\n",
    "        if isinstance(df, pd.Series):\n",
    "            df = df.to_frame()\n",
    "        return torch.from_numpy(df.values).float()\n",
    "\n",
    "\n",
    "train_data = PandasDataSet(X_train, y_train, Z_train)\n",
    "test_data = PandasDataSet(X_test, y_test, Z_test)"
   ]
  },
  {
   "cell_type": "code",
   "execution_count": 7,
   "metadata": {},
   "outputs": [
    {
     "name": "stdout",
     "output_type": "stream",
     "text": [
      "# features: 94\n",
      "# training samples: 15470\n",
      "# batches: 483\n"
     ]
    }
   ],
   "source": [
    "train_loader = DataLoader(train_data, batch_size=32, shuffle=True, drop_last=True)\n",
    "print('# features:', n_features)\n",
    "print('# training samples:', len(train_data))\n",
    "print('# batches:', len(train_loader))"
   ]
  },
  {
   "cell_type": "markdown",
   "metadata": {},
   "source": [
    "## Making income predictor"
   ]
  },
  {
   "cell_type": "code",
   "execution_count": 8,
   "metadata": {},
   "outputs": [],
   "source": [
    "class Classifier(nn.Module):\n",
    "\n",
    "    def __init__(self, n_features, n_hidden=32, p_dropout=0.2):\n",
    "        super(Classifier, self).__init__()\n",
    "        self.network = nn.Sequential(\n",
    "            nn.Linear(n_features, n_hidden),\n",
    "            nn.ReLU(),\n",
    "            nn.Dropout(p_dropout),\n",
    "            nn.Linear(n_hidden, n_hidden),\n",
    "            nn.ReLU(),\n",
    "            nn.Dropout(p_dropout),\n",
    "            nn.Linear(n_hidden, n_hidden),\n",
    "            nn.ReLU(),\n",
    "            nn.Dropout(p_dropout),\n",
    "            nn.Linear(n_hidden, 1),\n",
    "        )\n",
    "\n",
    "    def forward(self, x):\n",
    "        return torch.sigmoid(self.network(x))"
   ]
  },
  {
   "cell_type": "code",
   "execution_count": 9,
   "metadata": {},
   "outputs": [],
   "source": [
    "clf = Classifier(n_features=n_features)\n",
    "clf_criterion = nn.BCELoss()\n",
    "clf_optimizer = optim.Adam(clf.parameters())"
   ]
  },
  {
   "cell_type": "code",
   "execution_count": 10,
   "metadata": {},
   "outputs": [],
   "source": [
    "N_CLF_EPOCHS = 2\n",
    "\n",
    "for epoch in range(N_CLF_EPOCHS):\n",
    "    for x, y, _ in train_loader:\n",
    "        clf.zero_grad()\n",
    "        p_y = clf(x)\n",
    "        loss = clf_criterion(p_y, y)\n",
    "        loss.backward()\n",
    "        clf_optimizer.step()"
   ]
  },
  {
   "cell_type": "code",
   "execution_count": 11,
   "metadata": {},
   "outputs": [],
   "source": [
    "with torch.no_grad():\n",
    "    pre_clf_test = clf(test_data.tensors[0])\n",
    "\n",
    "y_pre_clf = pd.Series(pre_clf_test.data.numpy().ravel(), index=y_test.index)"
   ]
  },
  {
   "cell_type": "code",
   "execution_count": 12,
   "metadata": {},
   "outputs": [
    {
     "name": "stdout",
     "output_type": "stream",
     "text": [
      "ROC AUC: 0.90\n",
      "Accuracy: 84.6%\n"
     ]
    }
   ],
   "source": [
    "iter = 1\n",
    "val_metrics = pd.DataFrame(columns=['ROC AUC', 'Accuracy'])\n",
    "val_metrics.loc[iter,'ROC AUC'] = roc_auc_score(y_test, y_pre_clf)\n",
    "val_metrics.loc[iter,'Accuracy'] = 100*accuracy_score(y_test, y_pre_clf > 0.5 )\n",
    "print(\"ROC AUC: {:.2f}\".format(val_metrics.loc[iter,'ROC AUC']))\n",
    "print(\"Accuracy: {:.1f}%\".format(val_metrics.loc[iter, 'Accuracy']))"
   ]
  },
  {
   "cell_type": "markdown",
   "metadata": {},
   "source": [
    "With a ROC AUC larger than 0.90 and a prediction accuracy of 85% we can say that our basic classifier performs pretty well! However, if it is also fair in its predictions, that remains to be seen."
   ]
  },
  {
   "cell_type": "markdown",
   "metadata": {},
   "source": [
    "## Qualitative model fairness\n",
    "We start the investigation into the fairness of our classifier by analysing the predictions it made on the test set. The plots in the figure below show the distributions of the predicted $P(income\\gt50K)$ given the sensitive attributes."
   ]
  },
  {
   "cell_type": "code",
   "execution_count": 13,
   "metadata": {},
   "outputs": [],
   "source": [
    "def plot_distributions(y, Z, iteration=None, val_metrics=None, p_rules=None, fname=None):\n",
    "    fig, axes = plt.subplots(1, 2, figsize=(10, 4), sharey=True)\n",
    "    legend={'race': ['black','white'],\n",
    "            'sex': ['female','male']}\n",
    "    for idx, attr in enumerate(Z.columns):\n",
    "        for attr_val in [0, 1]:\n",
    "            ax = sns.distplot(y[Z[attr] == attr_val], hist=False, \n",
    "                              kde_kws={'shade': True,},\n",
    "                              label='{}'.format(legend[attr][attr_val]), \n",
    "                              ax=axes[idx])\n",
    "        ax.set_xlim(0,1)\n",
    "        ax.set_ylim(0,7)\n",
    "        ax.set_yticks([])\n",
    "        ax.set_title(\"sensitive attibute: {}\".format(attr))\n",
    "        if idx == 0:\n",
    "            ax.set_ylabel('prediction distribution')\n",
    "        ax.set_xlabel(r'$P({{income>50K}}|z_{{{}}})$'.format(attr))\n",
    "    if iteration:\n",
    "        fig.text(1.0, 0.9, \"Training iteration #{}\".format(iteration), fontsize='16')\n",
    "    if val_metrics is not None:\n",
    "        fig.text(1.0, 0.65, '\\n'.join([\"Prediction performance:\",\n",
    "                                       \"- ROC AUC: {:.2f}\".format(val_metrics.loc[iteration, 'ROC AUC']),\n",
    "                                       \"- Accuracy: {:.1f}\".format(val_metrics.loc[iteration,'Accuracy'])]),\n",
    "                 fontsize='16')\n",
    "    if p_rules is not None:\n",
    "        fig.text(1.0, 0.4, '\\n'.join([\"Satisfied p%-rules:\"] +\n",
    "                                     [\"- {0}: {1:.0f}%-rule\".format(attr, p_rules[attr]) \n",
    "                                      for attr in p_rules.keys()]), \n",
    "                 fontsize='16')\n",
    "    fig.tight_layout()\n",
    "    if fname is not None:\n",
    "        plt.savefig(fname, bbox_inches='tight')\n",
    "    return fig"
   ]
  },
  {
   "cell_type": "code",
   "execution_count": 14,
   "metadata": {},
   "outputs": [
    {
     "data": {
      "image/png": "[encoded data removed]",
      "text/plain": [
       "<Figure size 720x288 with 2 Axes>"
      ]
     },
     "metadata": {
      "needs_background": "light"
     },
     "output_type": "display_data"
    }
   ],
   "source": [
    "fig = plot_distributions(y_pre_clf, Z_test, iteration= iter, val_metrics= val_metrics, fname='images/biased_training.png')"
   ]
  },
  {
   "cell_type": "markdown",
   "metadata": {},
   "source": [
    "## Quantitative model fairness"
   ]
  },
  {
   "cell_type": "code",
   "execution_count": 15,
   "metadata": {},
   "outputs": [],
   "source": [
    "def p_rule(y_pred, z_values, threshold=0.5):\n",
    "    y_z_1 = y_pred[z_values == 1] > threshold if threshold else y_pred[z_values == 1]\n",
    "    y_z_0 = y_pred[z_values == 0] > threshold if threshold else y_pred[z_values == 0]\n",
    "    odds = y_z_1.mean() / y_z_0.mean()\n",
    "    return np.min([odds, 1/odds]) * 100"
   ]
  },
  {
   "cell_type": "code",
   "execution_count": 16,
   "metadata": {},
   "outputs": [
    {
     "name": "stdout",
     "output_type": "stream",
     "text": [
      "The classifier satisfies the following %p-rules:\n",
      "\tgiven attribute race; 42%-rule\n",
      "\tgiven attribute sex;  35%-rule\n"
     ]
    }
   ],
   "source": [
    "print(\"The classifier satisfies the following %p-rules:\")\n",
    "print(\"\\tgiven attribute race; {:.0f}%-rule\".format(p_rule(y_pre_clf, Z_test['race'], threshold= 0.5)))\n",
    "print(\"\\tgiven attribute sex;  {:.0f}%-rule\".format(p_rule(y_pre_clf, Z_test['sex'], threshold= 0.5)))"
   ]
  },
  {
   "cell_type": "markdown",
   "metadata": {},
   "source": [
    "## Fair income predictions"
   ]
  },
  {
   "cell_type": "code",
   "execution_count": 17,
   "metadata": {},
   "outputs": [],
   "source": [
    "class FairClassifier(nn.Module):\n",
    "    def __init__(self, n_features, n_hidden= 32):\n",
    "        super(FairClassifier, self).__init__()\n",
    "        self.nn= nn.Sequential(\n",
    "            nn.Linear(in_features= n_features, out_features= n_hidden),\n",
    "            nn.ReLU(),\n",
    "            nn.Dropout(p= 0.2),\n",
    "            nn.Linear(in_features= n_hidden, out_features= n_hidden),\n",
    "            nn.ReLU(),\n",
    "            nn.Dropout(p= 0.2),\n",
    "            nn.Linear(in_features= n_hidden, out_features= n_hidden),\n",
    "            nn.ReLU(),\n",
    "            nn.Dropout(p= 0.2),\n",
    "            nn.Linear(in_features= n_hidden, out_features= 1)\n",
    "        )\n",
    "        self.criterion = nn.BCELoss()\n",
    "        self.optimizer = optim.Adam(self.nn.parameters())\n",
    "        \n",
    "    def forward(self, x):\n",
    "        return torch.sigmoid(self.nn(x))\n",
    "    \n",
    "    def calculate_loss(self, adv_nn, p_y, y, z, lambdas):\n",
    "        return self.criterion(p_y, y) - (adv_nn.criterion(adv_nn(p_y), z) * lambdas).mean()\n",
    "    \n",
    "    def pretrain(self, data_loader):\n",
    "        for x, y, _ in data_loader:\n",
    "            self.zero_grad()\n",
    "            p_y = self(x)\n",
    "            loss = self.criterion(p_y, y)\n",
    "            loss.backward()\n",
    "            self.optimizer.step()\n",
    "    \n",
    "    def train_single_batch(self, data_loader, adv_nn, lambdas):\n",
    "        for x, y, z in data_loader:\n",
    "            pass\n",
    "        p_y = self.forward(x)\n",
    "        p_z = adv_nn(p_y)\n",
    "        self.zero_grad()\n",
    "        p_z = adv_nn(p_y)\n",
    "        loss_adv = adv_nn.calculate_loss(p_z, z, lambdas)\n",
    "        #loss = self.criterion(p_y, y) - (adv_nn.criterion(adv_nn(p_y), z) * lambdas).mean()\n",
    "        loss= self.calculate_loss(adv_nn, p_y, y, z, lambdas)\n",
    "        loss.backward()\n",
    "        self.optimizer.step()\n",
    "        "
   ]
  },
  {
   "cell_type": "code",
   "execution_count": 18,
   "metadata": {},
   "outputs": [],
   "source": [
    "class FairAdversarial(nn.Module):\n",
    "    def __init__(self, n_sensitive, n_hidden= 32):\n",
    "        super(FairAdversarial, self).__init__()\n",
    "        \n",
    "        self.nn= nn.Sequential(\n",
    "            nn.Linear(in_features= 1, out_features= n_hidden),\n",
    "            nn.ReLU(),\n",
    "            nn.Linear(in_features= n_hidden, out_features= n_hidden),\n",
    "            nn.ReLU(),\n",
    "            nn.Linear(in_features= n_hidden, out_features= n_hidden),\n",
    "            nn.ReLU(),\n",
    "            nn.Linear(in_features= n_hidden, out_features= n_sensitive)\n",
    "        )\n",
    "        self.criterion = nn.BCELoss(reduction= 'elementwise_mean')\n",
    "        self.optimizer = optim.Adam(self.nn.parameters())\n",
    "        \n",
    "    def forward(self, x):\n",
    "        return torch.sigmoid(self.nn(x))\n",
    "    \n",
    "    def calculate_loss(self, p_z, z, lambdas):\n",
    "        return (self.criterion(p_z, z) * lambdas).mean()\n",
    "    \n",
    "    def pretrain(self, data_loader, clf_nn, lambdas):\n",
    "        for x, _, z in data_loader:\n",
    "            p_y = clf_nn(x).detach()\n",
    "            self.zero_grad()\n",
    "            loss = (self.criterion(p_z, z) * lambdas).mean()\n",
    "            loss.backward()\n",
    "            self.optimizer.step()\n",
    "    \n",
    "    def train(self, data_loader, clf_nn, lambdas):\n",
    "        for x, y, z in data_loader:\n",
    "            p_y = clf_nn(x)\n",
    "            self.zero_grad()\n",
    "            p_z = self.forward(p_y)\n",
    "            loss = self.calculate_loss(p_z, z, lambdas)\n",
    "            loss.backward()\n",
    "            self.optimizer.step()"
   ]
  },
  {
   "cell_type": "code",
   "execution_count": 19,
   "metadata": {},
   "outputs": [],
   "source": [
    "lambdas = torch.Tensor([130, 30])\n",
    "clf = FairClassifier(n_features, 32)\n",
    "adv = FairAdversarial(n_sensitive, 32)"
   ]
  },
  {
   "cell_type": "code",
   "execution_count": 20,
   "metadata": {},
   "outputs": [],
   "source": [
    "def train_GAN(clf, adv, data_loader, lambdas):\n",
    "    adv.train(data_loader, clf, lambdas)\n",
    "    clf.train_single_batch(data_loader, adv, lambdas)\n",
    "    return clf, adv"
   ]
  },
  {
   "cell_type": "code",
   "execution_count": 21,
   "metadata": {},
   "outputs": [
    {
     "data": {
      "image/png": "[encoded data removed]",
      "text/plain": [
       "<Figure size 720x288 with 2 Axes>"
      ]
     },
     "metadata": {
      "needs_background": "light"
     },
     "output_type": "display_data"
    }
   ],
   "source": [
    "clf.pretrain(train_loader)\n",
    "\n",
    "N_EPOCH_COMBINED = 165\n",
    "\n",
    "for epoch in range(1, N_EPOCH_COMBINED):\n",
    "    \n",
    "    clf, adv = train_GAN(clf, adv, train_loader, lambdas)\n",
    "    \n",
    "    with torch.no_grad():\n",
    "        clf_pred = clf(test_data.tensors[0])\n",
    "        adv_pred = adv(clf_pred)\n",
    "        \n",
    "    y_post_clf = pd.Series(clf_pred.numpy().ravel(), index=y_test.index)\n",
    "    Z_post_adv = pd.DataFrame(adv_pred.numpy(), columns=Z_test.columns)\n",
    "    \n",
    "    fig = plot_distributions(y_post_clf, Z_test, iteration= epoch)\n",
    "    display.clear_output(wait=True)\n",
    "    plt.savefig('output/torch_{:08d}.png'.format(epoch + 1), bbox_inches='tight')\n",
    "    plt.show(plt.gcf())"
   ]
  },
  {
   "cell_type": "code",
   "execution_count": null,
   "metadata": {},
   "outputs": [],
   "source": []
  },
  {
   "cell_type": "code",
   "execution_count": null,
   "metadata": {},
   "outputs": [],
   "source": []
  }
 ],
 "metadata": {
  "kernelspec": {
   "display_name": "Python 3",
   "language": "python",
   "name": "python3"
  },
  "language_info": {
   "codemirror_mode": {
    "name": "ipython",
    "version": 3
   },
   "file_extension": ".py",
   "mimetype": "text/x-python",
   "name": "python",
   "nbconvert_exporter": "python",
   "pygments_lexer": "ipython3",
   "version": "3.5.3"
  }
 },
 "nbformat": 4,
 "nbformat_minor": 2
}
